{
 "cells": [
  {
   "cell_type": "code",
   "execution_count": null,
   "metadata": {},
   "outputs": [],
   "source": [
    "import pandas as pd\n",
    "import warnings\n",
    "warnings.filterwarnings('ignore')\n",
    "\n",
    "import neologdn\n",
    "import os\n",
    "import urllib.request\n",
    "from matplotlib.font_manager import FontProperties\n",
    "import MeCab\n",
    "from __future__ import unicode_literals\n",
    "import re\n",
    "import unicodedata\n",
    "import sagemaker\n",
    "from sagemaker import get_execution_role\n",
    "import boto3\n",
    "import json\n",
    "import pandas as pd\n",
    "import warnings\n",
    "import numpy as np \n",
    "import pandas as pd\n",
    "import matplotlib.pyplot as plt\n",
    "import seaborn as sns\n",
    "import numpy as np\n",
    "import os\n",
    "import codecs\n",
    "plt.style.use('fivethirtyeight')\n",
    "import warnings\n",
    "warnings.filterwarnings('ignore')\n",
    "%matplotlib inline\n",
    "\n",
    "#chaneg dummies to matrix\n",
    "from scipy.sparse import csr_matrix,coo_matrix\n",
    "\n",
    "import multiprocessing\n",
    "\n",
    "from multiprocessing import Pool\n",
    "\n",
    "import pickle\n",
    "\n",
    "from keras.models import Sequential\n",
    "from keras.layers import Dense, Flatten, Conv1D, MaxPooling1D, Dropout, Input, concatenate\n",
    "from keras.layers.embeddings import Embedding\n",
    "from keras.preprocessing import sequence\n",
    "from keras.preprocessing.text import Tokenizer\n",
    "from keras.models import Model\n",
    "import os\n",
    "import tarfile\n",
    "import numpy as np\n",
    "\n",
    "import string"
   ]
  },
  {
   "cell_type": "code",
   "execution_count": null,
   "metadata": {},
   "outputs": [],
   "source": [
    "#tokenize japanase words\n",
    "def wakati_by_mecab(text):\n",
    "    tagger = MeCab.Tagger('-Ochasen -d /usr/lib64/mecab/dic/mecab-ipadic-neologd')\n",
    "    tagger.parse('') \n",
    "    node = tagger.parseToNode(text)\n",
    "    word_list = []\n",
    "    while node:\n",
    "        pos = node.feature.split(\",\")[0]\n",
    "        #if pos in [\"名詞\",\"動詞\",\"形容詞\",\"記号\"]:   # 対象とする品詞\n",
    "        if pos in [\"名詞\",\"動詞\",\"形容詞\"]:   # 対象とする品詞\n",
    "            word = node.surface\n",
    "            word_list.append(word)\n",
    "        node = node.next\n",
    "    return \" \".join(word_list)"
   ]
  },
  {
   "cell_type": "code",
   "execution_count": null,
   "metadata": {},
   "outputs": [],
   "source": [
    "def remove_chars(row):\n",
    "    cust_list=['\\d+','■','\\n','・','◇','①','②','③','④','【】','】','【']\n",
    "    del_list = string.ascii_letters + string.punctuation\n",
    "    for i in del_list :\n",
    "        row = row.str.replace(i,'')\n",
    "    for i in cust_list :\n",
    "        row = row.str.replace(i,'')\n",
    "    return row"
   ]
  },
  {
   "cell_type": "code",
   "execution_count": null,
   "metadata": {},
   "outputs": [],
   "source": [
    "def get_df_from_excel_2018(file_path):\n",
    "    df = pd.read_excel(file_path, sheetname=None, ignore_index=True)\n",
    "    df_sheet_all = pd.concat(df.values())\n",
    "    cols=['Comment_Catregory_”Brochure”','Comment_Catregory_”Compass”','Comment_Catregory_”My AXA”','Comment_Catregory_”Reputation”',\n",
    "          'Comment_Catregory_”商品/契約内容”','Comment_Catregory_”手続き_（⊆ Compass)”','Comment_Catregory_”担当者”'\n",
    "         ,'その他' \n",
    "         ,'comment' \n",
    "         ,'Q4： \\n質問3でつけた点数の理由として、良いと思った点'\n",
    "         ,'Q5：\\n（質問3でより高い点数をつけるために）改善が必要だと思う点']\n",
    "    df_col=df_sheet_all[cols]\n",
    "    df_col.columns = ['cat_brochure', 'cat_compass', 'cat_myaxa', 'cat_reputaion', 'cat_keiyaku','cat_tetuduki','cat_tanto','cat_other','cmt0','cmt1','cmt2']\n",
    "    return df_col\n",
    "    \n",
    "    "
   ]
  },
  {
   "cell_type": "code",
   "execution_count": null,
   "metadata": {},
   "outputs": [],
   "source": [
    "def get_df_from_excel_2019(file_path):\n",
    "    df = pd.read_excel(file_path, sheetname=None, ignore_index=True)\n",
    "    df_sheet_all = pd.concat(df.values())\n",
    "    cols=['Comment_Catregory_”Brochure”','Comment_Catregory_”Compass”','Comment_Catregory_”My AXA”','Comment_Catregory_”Reputation”',\n",
    "      'Comment_Catregory_”商品/契約内容”','Comment_Catregory_”手続き_（⊆ Compass)”','Comment_Catregory_”担当者”'\n",
    "     ,'その他' \n",
    "     ,'comment' \n",
    "     ,'質問4： NPSでつけた点数の理由として、良いと思った点について次のうちから最も当てはまるものを選んでください。'\n",
    "     ,'質問5：（質問3でより高い点数をつけていただくために）改善が必要だと思う点について、次のうちから最も当てはまるものを選んでください。'\n",
    "     ,'質問8： 今回の契約に至った決め手を教えてください。'\n",
    "     ,'質問9： 担当FA（フィナンシャルプランアドバイザー）について、良い点・改善すべき点等のご意見、激励・応援メッセージ、ライフプランの感想などをご記入ください。（必須）'\n",
    "     ,'質問5：質問4でつけた評価の理由として、次のなかから最も当てはまるものを選んでください。（必須）'\n",
    "     ,'質問6：質問4でつけた点数に関して、具体的な感想やコメントをお聞かせください。（任意）']\n",
    "    df_col=df_sheet_all[cols]\n",
    "    df_col.columns = ['cat_brochure', 'cat_compass', 'cat_myaxa', 'cat_reputaion', 'cat_keiyaku','cat_tetuduki','cat_tanto','cat_other','cmt0','cmt1','cmt2','cmt3','cmt_4','cmt_5','cmt_6']\n",
    "    return df_col\n",
    "    "
   ]
  },
  {
   "cell_type": "code",
   "execution_count": null,
   "metadata": {},
   "outputs": [],
   "source": [
    "def get_df_from_excel_2019_sheet(file_path,sheet_name):\n",
    "    df_sheet_all = pd.read_excel(file_path, sheetname=sheet_name, ignore_index=True)\n",
    "    #df_sheet_all = pd.concat(df.values())\n",
    "    cols=['Comment_Catregory_”Brochure”','Comment_Catregory_”Compass”','Comment_Catregory_”My AXA”','Comment_Catregory_”Reputation”',\n",
    "      'Comment_Catregory_”商品/契約内容”','Comment_Catregory_”手続き_（⊆ Compass)”','Comment_Catregory_”担当者”'\n",
    "     ,'その他' \n",
    "     ,'comment' \n",
    "     ,'質問4： NPSでつけた点数の理由として、良いと思った点について次のうちから最も当てはまるものを選んでください。'\n",
    "     ,'質問5：（質問3でより高い点数をつけていただくために）改善が必要だと思う点について、次のうちから最も当てはまるものを選んでください。'\n",
    "     ,'質問8： 今回の契約に至った決め手を教えてください。'\n",
    "     ,'質問9： 担当FA（フィナンシャルプランアドバイザー）について、良い点・改善すべき点等のご意見、激励・応援メッセージ、ライフプランの感想などをご記入ください。（必須）'\n",
    "     ,'質問5：質問4でつけた評価の理由として、次のなかから最も当てはまるものを選んでください。（必須）'\n",
    "     ,'質問6：質問4でつけた点数に関して、具体的な感想やコメントをお聞かせください。（任意）']\n",
    "    df_col=df_sheet_all[cols]\n",
    "    df_col.columns = ['cat_brochure', 'cat_compass', 'cat_myaxa', 'cat_reputaion', 'cat_keiyaku','cat_tetuduki','cat_tanto','cat_other','cmt0','cmt1','cmt2','cmt3','cmt_4','cmt_5','cmt_6']\n",
    "    return df_col"
   ]
  },
  {
   "cell_type": "code",
   "execution_count": null,
   "metadata": {},
   "outputs": [],
   "source": [
    "file_path=\"/home/ec2-user/SageMaker/Notebooks_For_CX_Usecases/Multiple_Labels_Text_Classfication//raw_data/processed_ML_TXT_CS_data.csv\"\n",
    "df_mutilabel=pd.read_csv(file_path)\n",
    "df_mutilabel.dropna(inplace=True)"
   ]
  },
  {
   "cell_type": "code",
   "execution_count": null,
   "metadata": {},
   "outputs": [],
   "source": [
    "df_mutilabel.shape"
   ]
  },
  {
   "cell_type": "code",
   "execution_count": null,
   "metadata": {},
   "outputs": [],
   "source": [
    "df_mutilabel.head(5)"
   ]
  },
  {
   "cell_type": "code",
   "execution_count": null,
   "metadata": {},
   "outputs": [],
   "source": [
    "from sklearn.model_selection import train_test_split\n",
    "\n",
    "#train, test = train_test_split(df_mutilabel, test_size=0.2)\n",
    "\n",
    "train_texts = df_mutilabel[\"comment\"].values\n",
    "train_labels = df_mutilabel[['cat_brochure', 'cat_compass', 'cat_myaxa', 'cat_reputaion', 'cat_keiyaku','cat_tetuduki','cat_tanto','cat_other']].values\n",
    "\n",
    "#test_texts = test[\"comment\"].values\n",
    "#test_labels = test[['cat_brochure', 'cat_compass', 'cat_myaxa', 'cat_reputaion', 'cat_keiyaku','cat_tetuduki','cat_tanto','cat_other']].values\n",
    "\n"
   ]
  },
  {
   "cell_type": "code",
   "execution_count": null,
   "metadata": {},
   "outputs": [],
   "source": [
    "from keras.preprocessing.text import Tokenizer\n",
    "from keras.preprocessing.sequence import pad_sequences\n",
    "\n",
    "text=list(df_mutilabel['comment'].values)\n",
    "\n",
    "\n",
    "top_vocab=3000\n",
    "\n",
    "tokenizer = Tokenizer(top_vocab)\n",
    "#list xは上に書いたようにテキストデータが格納されている\n",
    "tokenizer.fit_on_texts(text)\n",
    "\n",
    "maxlen_value=50\n",
    "\n",
    "# 对每一句影评文字转换为数字列表，使用每个词的编号进行编号\n",
    "x_train_seq = tokenizer.texts_to_sequences(train_texts)\n",
    "#x_test_seq = tokenizer.texts_to_sequences(test_texts)\n",
    "x_train = sequence.pad_sequences(x_train_seq, maxlen=maxlen_value)\n",
    "#x_test = sequence.pad_sequences(x_test_seq, maxlen=maxlen_value)\n",
    "y_train = np.array(train_labels)\n",
    "#y_test = np.array(test_labels)\n",
    "with open('LSTM-GRU-Stack-mutillabel_tokenizer.pickle', 'wb') as handle:\n",
    "    pickle.dump(tokenizer, handle, protocol=pickle.HIGHEST_PROTOCOL)"
   ]
  },
  {
   "cell_type": "code",
   "execution_count": null,
   "metadata": {},
   "outputs": [],
   "source": [
    "import copy\n",
    "x = list(tokenizer.word_counts.items())\n",
    "s = sorted(x,key=lambda p:p[1],reverse=True)\n",
    "word_index = tokenizer.word_index # 不受vocab_size的影响\n",
    "small_word_index = copy.deepcopy(word_index) # 防止原来的字典也被改变了\n",
    "print(\"Removing less freq words from word-index dict...\")\n",
    "for item in s[top_vocab:]:\n",
    "    small_word_index.pop(item[0])\n",
    "print(\"Finished!\")\n",
    "print(len(small_word_index))\n",
    "print(len(word_index))"
   ]
  },
  {
   "cell_type": "code",
   "execution_count": null,
   "metadata": {},
   "outputs": [],
   "source": [
    "import gensim\n",
    "#配布されていたfastTextの次元数は300だったので300\n",
    "EMBEDDING_DIM = 200\n",
    "#embedding_metrix = np.zeros(top_vocab+1,EMBEDDING_DIM)\n",
    "embedding_matrix = np.random.uniform(size=(top_vocab+1,EMBEDDING_DIM))\n",
    "word_vectors = gensim.models.KeyedVectors.load_word2vec_format('/home/ec2-user/SageMaker/entitiy_vector_dic/entity_vector/entity_vector.model.bin', binary=True)\n",
    "for word, i in small_word_index.items():\n",
    "    try:\n",
    "        embedding_vector = word_vectors[word]\n",
    "        embedding_matrix[i] = embedding_vector\n",
    "    except KeyError:\n",
    "        #print(\"Word: [\",word,\"] not in wvmodel! Use random embedding instead.\")\n",
    "        pass"
   ]
  },
  {
   "cell_type": "code",
   "execution_count": null,
   "metadata": {},
   "outputs": [],
   "source": [
    "params = [\n",
    "    {'name': 'Dropout_0',        'type': 'continuous',  'domain': (0.0, 0.5)},\n",
    "    {'name': 'Dropout_1',        'type': 'continuous',  'domain': (0.0, 0.5)},\n",
    "    {'name': 'Dropout_2',        'type': 'continuous',  'domain': (0.0, 0.5)},\n",
    "    {'name': 'Dropout_3',        'type': 'continuous',  'domain': (0.0, 0.5)},\n",
    "    {'name': 'Dense_LSTM',          'type': 'discrete',    'domain': (64,128,256,512)},\n",
    "    {'name': 'Dense_GRU',          'type': 'discrete',    'domain': (64,128,256,512)},\n",
    "    {'name': 'Dense_0',          'type': 'discrete',    'domain': (64,128,256,512)},\n",
    "    {'name': 'epoch_num',          'type': 'discrete',    'domain': (10,30,60,100)},\n",
    "    {'name': 'batch_size',          'type': 'discrete',    'domain': (32,64,128,256,512)},\n",
    "    {'name': 'validation_split', 'type': 'continuous',  'domain': (0.1, 0.3, 0.4)},\n",
    "    {'name': 'learn_rate',          'type': 'discrete',    'domain': (0.001, 0.01, 0.1, 0.2, 0.3, 0.4)},\n",
    "]"
   ]
  },
  {
   "cell_type": "code",
   "execution_count": null,
   "metadata": {},
   "outputs": [],
   "source": [
    "def full_multi_label_metric(y_true, y_pred):\n",
    "    comp = K.equal(y_true, K.round(y_pred))\n",
    "    return K.cast(K.all(comp, axis=-1), K.floatx())"
   ]
  },
  {
   "cell_type": "code",
   "execution_count": null,
   "metadata": {},
   "outputs": [],
   "source": [
    "import tensorflow as tf\n",
    "from keras import backend as K\n",
    "from keras.models import Model\n",
    "from keras.layers import Dense, Embedding, Input, concatenate, Flatten, SpatialDropout1D\n",
    "from keras.layers import CuDNNLSTM,LSTM, Bidirectional, GlobalMaxPool1D, Dropout, CuDNNGRU,GRU, GlobalAveragePooling1D, GlobalMaxPooling1D\n",
    "from keras.preprocessing import text, sequence\n",
    "from keras.callbacks import EarlyStopping, ModelCheckpoint, ReduceLROnPlateau, TensorBoard, LearningRateScheduler, Callback\n",
    "from keras.optimizers import Adam, Adadelta, SGD, RMSprop, Nadam\n",
    "\n",
    "def rnn_model(x):\n",
    "    \n",
    "    def Param(p_name):\n",
    "        p_index = [p['name'] for p in params].index(p_name)\n",
    "        p_type = params[p_index]['type']\n",
    "    \n",
    "        if type(x) is np.ndarray:\n",
    "            if p_type == 'continuous':\n",
    "                return float(x[:, p_index])\n",
    "            else:\n",
    "                return int(x[:, p_index])\n",
    "        else: # list\n",
    "            if p_type == 'continuous':\n",
    "                return float(params[p_index]['domain'])\n",
    "            else:\n",
    "                return int(params[p_index]['domain'])\n",
    "        \n",
    "    inputs = Input(shape=(maxlen_value,))\n",
    "    wv_dim=200\n",
    "    vocab_size=top_vocab\n",
    "    use_pretrained_wv = True\n",
    "    if use_pretrained_wv:\n",
    "        wv = Embedding(vocab_size+1,wv_dim,input_length=maxlen_value,weights=[embedding_matrix],trainable=False)(inputs)\n",
    "    else:\n",
    "        wv = Embedding(vocab_size+1,wv_dim,input_length=MAXLEN)(inputs)\n",
    "        \n",
    "    layer = SpatialDropout1D(Param('Dropout_0'))(wv)\n",
    "    layer = Bidirectional(CuDNNLSTM(Param('Dense_LSTM'), return_sequences=True))(layer)\n",
    "    layer = Dropout(Param('Dropout_1'))(layer)\n",
    "    layer = Bidirectional(CuDNNGRU(Param('Dense_GRU'), return_sequences=True))(layer)\n",
    "    layer = Dropout(Param('Dropout_2'))(layer)\n",
    "    avg_pool = GlobalAveragePooling1D()(layer)\n",
    "    max_pool = GlobalMaxPooling1D()(layer)\n",
    "    layer = concatenate([avg_pool, max_pool])\n",
    "    layer = Dense(Param('Dense_0'), activation=\"relu\")(layer)\n",
    "    layer = Dense(8, activation=\"sigmoid\")(layer)\n",
    "    model = Model(inputs=inputs, outputs=layer)\n",
    "    #model.summary()\n",
    "    opt = Adam(lr=Param('learn_rate'))\n",
    "    model.compile(loss='binary_crossentropy', optimizer=opt, metrics=['accuracy',full_multi_label_metric])\n",
    "    hist= model.fit(x_train,\n",
    "          y_train,\n",
    "          batch_size=Param('batch_size'),\n",
    "          epochs=Param('epoch_num'),\n",
    "          shuffle=True,\n",
    "          validation_split=Param('validation_split'),\n",
    "          callbacks=callbacks,\n",
    "          verbose=1)\n",
    "    \n",
    "    loss = hist.history['val_loss'][-1]\n",
    "    acc = hist.history['val_acc'][-1]\n",
    "    full_muti= hist.history['val_full_multi_label_metric'][-1]\n",
    "    \n",
    "    global cnt\n",
    "    print(': Test_loss:', loss, ', Test_acc:', acc, 'full_multi_label_metric', full_muti)\n",
    "    print('Model: ', model, '\\n\\n')\n",
    "    return loss, acc, full_muti,model, hist"
   ]
  },
  {
   "cell_type": "code",
   "execution_count": null,
   "metadata": {},
   "outputs": [],
   "source": [
    "checkpoint_path = \"models/ML_TXT_CS_LSTM-GRU-Stack-weights-improvement-{val_full_multi_label_metric:.4f}.hdf5\"\n",
    "checkpoint_dir = os.path.dirname(checkpoint_path)\n",
    " \n",
    "cp_callback = ModelCheckpoint(checkpoint_path,\n",
    "                              save_best_only=True,\n",
    "                              verbose=0)\n",
    " \n",
    "callbacks = [\n",
    "    EarlyStopping(patience=150, monitor='val_full_multi_label_metric',mode='max'),\n",
    "    cp_callback\n",
    "]"
   ]
  },
  {
   "cell_type": "code",
   "execution_count": null,
   "metadata": {},
   "outputs": [],
   "source": [
    "def f(x):\n",
    "    loss, acc, full_muti,model, hist = rnn_model(x)\n",
    "    return -full_muti"
   ]
  },
  {
   "cell_type": "code",
   "execution_count": null,
   "metadata": {},
   "outputs": [],
   "source": [
    "import GPy\n",
    "import GPyOpt\n",
    "opt = GPyOpt.methods.BayesianOptimization(f=f, \n",
    "                                          domain=params)"
   ]
  },
  {
   "cell_type": "code",
   "execution_count": null,
   "metadata": {
    "scrolled": true
   },
   "outputs": [],
   "source": [
    "batch_size = 64\n",
    "epochs = 50\n",
    "m = get_model()\n",
    "\n",
    "m.fit(x_train,y_train,batch_size=batch_size,epochs=epochs,shuffle=True,validation_split=0.2,callbacks=callbacks,verbose=1)\n"
   ]
  },
  {
   "cell_type": "code",
   "execution_count": null,
   "metadata": {},
   "outputs": [],
   "source": []
  },
  {
   "cell_type": "code",
   "execution_count": null,
   "metadata": {},
   "outputs": [],
   "source": []
  },
  {
   "cell_type": "code",
   "execution_count": null,
   "metadata": {},
   "outputs": [],
   "source": [
    "checkpoint_path = \"models/ML_TXT_CS_LSTM-GRU-Stack-weights-improvement-{val_acc:.4f}.hdf5\"\n",
    "checkpoint_dir = os.path.dirname(checkpoint_path)\n",
    " \n",
    "cp_callback = ModelCheckpoint(checkpoint_path,\n",
    "                              save_best_only=True,\n",
    "                              verbose=0)\n",
    " \n",
    "callbacks = [\n",
    "    EarlyStopping(patience=150, monitor='val_acc',mode='max'),\n",
    "    cp_callback\n",
    "]"
   ]
  },
  {
   "cell_type": "code",
   "execution_count": null,
   "metadata": {},
   "outputs": [],
   "source": [
    "from keras.optimizers import Adam, Adadelta, SGD, RMSprop, Nadam, Adamax, Adagrad\n",
    "def return_opt(opt_name):\n",
    "    if opt_name=='Adam':\n",
    "        return Adam\n",
    "    elif opt_name=='Adadelta':\n",
    "        return Adadelta\n",
    "    elif opt_name=='SGD':\n",
    "        return SGD\n",
    "    elif opt_name=='RMSprop':\n",
    "        return RMSprop\n",
    "    elif opt_name=='Nadam':\n",
    "        return Nadam\n",
    "    elif opt_name=='Adamax':\n",
    "        return Adamax\n",
    "    elif opt_name=='Adagrad':\n",
    "        return Adagrad"
   ]
  },
  {
   "cell_type": "code",
   "execution_count": null,
   "metadata": {},
   "outputs": [],
   "source": [
    "import tensorflow as tf\n",
    "from keras import backend as K\n",
    "from keras.models import Model\n",
    "from keras.wrappers.scikit_learn import KerasClassifier\n",
    "from sklearn.model_selection import RandomizedSearchCV\n",
    "from keras.layers import Dense, Embedding, Input, concatenate, Flatten, SpatialDropout1D\n",
    "from keras.layers import CuDNNLSTM,LSTM, Bidirectional, GlobalMaxPool1D, Dropout, CuDNNGRU,GRU, GlobalAveragePooling1D, GlobalMaxPooling1D\n",
    "from keras.preprocessing import text, sequence\n",
    "from keras.callbacks import EarlyStopping, ModelCheckpoint, ReduceLROnPlateau, TensorBoard, LearningRateScheduler, Callback\n",
    "from keras.optimizers import Adam, Adadelta, SGD, RMSprop, Nadam, Adamax, Adagrad\n",
    "from keras.layers.advanced_activations import PReLU,LeakyReLU\n",
    "\n",
    "def get_model(activation=\"relu\", optimizer=\"Adam\",learn_rate=0.01,momentum=0,out_dim_lstm=256,out_dim_gru=128,out_dim=64,dropout_rate=0.5, weight_constraint=0):\n",
    "    inputs = Input(shape=(maxlen_value,))\n",
    "    wv_dim=200\n",
    "    vocab_size=top_vocab\n",
    "    use_pretrained_wv = True\n",
    "    if use_pretrained_wv:\n",
    "        wv = Embedding(vocab_size+1,wv_dim,input_length=maxlen_value,weights=[embedding_matrix],trainable=False)(inputs)\n",
    "    else:\n",
    "        wv = Embedding(vocab_size+1,wv_dim,input_length=MAXLEN)(inputs)\n",
    "        \n",
    "    x = SpatialDropout1D(dropout_rate)(wv)\n",
    "    x = Bidirectional(CuDNNLSTM(out_dim_lstm, return_sequences=True))(x)\n",
    "    x = Dropout(dropout_rate)(x)\n",
    "    x = Bidirectional(CuDNNGRU(out_dim_gru, return_sequences=True))(x)\n",
    "    x = Dropout(dropout_rate)(x)\n",
    "    avg_pool = GlobalAveragePooling1D()(x)\n",
    "    max_pool = GlobalMaxPooling1D()(x)\n",
    "    x = concatenate([avg_pool, max_pool])\n",
    "    x = Dense(out_dim, activation=activation)(x)\n",
    "    x = Dense(8, activation=\"sigmoid\")(x)\n",
    "    model = Model(inputs=inputs, outputs=x)\n",
    "    model.summary()\n",
    "    opt=return_opt(optimizer)\n",
    "    optimizer_eng = opt(lr=learn_rate, momentum=momentum)\n",
    "    model.compile(loss='binary_crossentropy', optimizer=optimizer_eng, metrics=['accuracy'])\n",
    "    return model"
   ]
  },
  {
   "cell_type": "code",
   "execution_count": null,
   "metadata": {},
   "outputs": [],
   "source": [
    "activation = [\"relu\", \"PReLU\",\"LeakyReLU\"]\n",
    "optimizer = ['SGD', 'RMSprop', 'Adagrad', 'Adadelta', 'Adam', 'Adamax', 'Nadam']\n",
    "learn_rate = [0.001, 0.01, 0.1, 0.2, 0.3]\n",
    "momentum = [0.0, 0.2, 0.4, 0.6, 0.8, 0.9]\n",
    "out_dim = [64, 128, 256, 512]\n",
    "dropout_rate=[0.2, 0.3, 0.4, 0.5, 0.6, 0.7]\n",
    "nb_epoch = [10, 25, 40, 60, 100]\n",
    "batch_size = [10, 32, 64, 128, 256, 512]\n",
    "param_grid = dict(activation=activation,\n",
    "                  optimizer=optimizer,\n",
    "                  learn_rate=learn_rate,\n",
    "                  momentum=momentum,\n",
    "                  out_dim=out_dim,\n",
    "                  dropout_rate=dropout_rate,\n",
    "                  nb_epoch=nb_epoch,\n",
    "                  batch_size=batch_size,\n",
    "                 )"
   ]
  },
  {
   "cell_type": "code",
   "execution_count": null,
   "metadata": {},
   "outputs": [],
   "source": [
    "model = KerasClassifier(build_fn=get_model)"
   ]
  },
  {
   "cell_type": "code",
   "execution_count": null,
   "metadata": {},
   "outputs": [],
   "source": [
    "from sklearn.model_selection import GridSearchCV\n",
    "from sklearn.model_selection import StratifiedKFold\n",
    "grid = GridSearchCV(estimator=model,cv=5, param_grid=param_grid, n_jobs=1)"
   ]
  },
  {
   "cell_type": "code",
   "execution_count": null,
   "metadata": {},
   "outputs": [],
   "source": [
    "grid_result = grid.fit(x_train, y_train,validation_split = 0.2,verbose=1,callbacks=callbacks)"
   ]
  },
  {
   "cell_type": "code",
   "execution_count": null,
   "metadata": {},
   "outputs": [],
   "source": []
  },
  {
   "cell_type": "code",
   "execution_count": null,
   "metadata": {},
   "outputs": [],
   "source": []
  },
  {
   "cell_type": "code",
   "execution_count": null,
   "metadata": {},
   "outputs": [],
   "source": [
    "import tensorflow as tf\n",
    "from keras import backend as K\n",
    "\n",
    "def full_multi_label_metric(y_true, y_pred):\n",
    "    comp = K.equal(y_true, K.round(y_pred))\n",
    "    return K.cast(K.all(comp, axis=-1), K.floatx())\n",
    "\n",
    "input = tf.keras.layers.Input(shape=(maxlen_value,))\n",
    " \n",
    "x = tf.keras.layers.Embedding(top_vocab+1, EMBEDDING_DIM, weights=[embedding_matrix], trainable=False)(input)\n",
    "\n",
    "x = tf.keras.layers.Bidirectional(tf.keras.layers.GRU(128, return_sequences=True, dropout=0.1,recurrent_dropout=0.1))(x)\n",
    "\n",
    "x = tf.keras.layers.Conv1D(64, kernel_size=3, padding=\"valid\", kernel_initializer=\"glorot_uniform\")(x)\n",
    " \n",
    "avg_pool = tf.keras.layers.GlobalAveragePooling1D()(x)\n",
    "max_pool = tf.keras.layers.GlobalMaxPooling1D()(x)\n",
    " \n",
    "x = tf.keras.layers.concatenate([avg_pool, max_pool])\n",
    " \n",
    "preds = tf.keras.layers.Dense(8, activation=\"sigmoid\")(x)\n",
    " \n",
    "model = tf.keras.Model(input, preds)\n",
    " \n",
    "model.summary()\n",
    " \n",
    "model.compile(loss='binary_crossentropy', optimizer=tf.keras.optimizers.Adam(lr=1e-3), metrics=['accuracy',full_multi_label_metric])"
   ]
  },
  {
   "cell_type": "code",
   "execution_count": null,
   "metadata": {},
   "outputs": [],
   "source": [
    "batch_size = 64\n",
    " \n",
    "checkpoint_path = \"training_1/cp.ckpt\"\n",
    "checkpoint_dir = os.path.dirname(checkpoint_path)\n",
    " \n",
    "cp_callback = tf.keras.callbacks.ModelCheckpoint(checkpoint_path,\n",
    "                                                 save_weights_only=True,\n",
    "                                                 verbose=0)\n",
    " \n",
    "callbacks = [\n",
    "    tf.keras.callbacks.EarlyStopping(patience=200, monitor='val_loss'),\n",
    "    tf.keras.callbacks.TensorBoard(log_dir='./logs'),\n",
    "    cp_callback\n",
    "]\n",
    " \n",
    "model.fit(x_train, y_train, validation_split=0.3, batch_size=batch_size,epochs=25,shuffle=True,callbacks=callbacks, verbose=1)"
   ]
  },
  {
   "cell_type": "code",
   "execution_count": null,
   "metadata": {},
   "outputs": [],
   "source": [
    "from sklearn.metrics import accuracy_score, precision_score, recall_score, roc_auc_score\n",
    "latest = tf.train.latest_checkpoint(checkpoint_dir)\n",
    " \n",
    "model.load_weights(latest)\n",
    "scores = model.evaluate(x_test, y_test)\n",
    "print('test_loss: %f, accuracy: %f' % (scores[0], scores[1]))"
   ]
  },
  {
   "cell_type": "code",
   "execution_count": null,
   "metadata": {},
   "outputs": [],
   "source": [
    "latest = tf.train.latest_checkpoint(checkpoint_dir)\n",
    " \n",
    "model.load_weights(latest)\n",
    " \n",
    "predictions = model.predict(x_test)\n",
    "\n",
    "thrs=np.linspace(0, 1, 100)\n",
    "sc = np.zeros((len(thrs)))\n",
    "for i, thr in enumerate(thrs):\n",
    "    sc[i] = accuracy_score(y_test, (predictions>thr).astype(int))\n",
    "print(\"Best threshold {} with score {}\".format(thrs[np.argmax(sc)], np.max(sc)))"
   ]
  },
  {
   "cell_type": "code",
   "execution_count": null,
   "metadata": {},
   "outputs": [],
   "source": [
    "latest"
   ]
  },
  {
   "cell_type": "code",
   "execution_count": null,
   "metadata": {},
   "outputs": [],
   "source": [
    "x_test.shape"
   ]
  },
  {
   "cell_type": "code",
   "execution_count": null,
   "metadata": {},
   "outputs": [],
   "source": []
  },
  {
   "cell_type": "code",
   "execution_count": null,
   "metadata": {},
   "outputs": [],
   "source": [
    "model.metrics_names"
   ]
  },
  {
   "cell_type": "code",
   "execution_count": null,
   "metadata": {},
   "outputs": [],
   "source": [
    "\n",
    "latest = tf.train.latest_checkpoint(checkpoint_dir)\n",
    " \n",
    "model.load_weights(latest)\n",
    " \n",
    "predictions = model.predict(x_test)\n",
    " \n",
    "#print(tokenizer.sequences_to_texts(x_test))\n",
    "print(y_test)\n",
    "print(predictions)"
   ]
  },
  {
   "cell_type": "code",
   "execution_count": null,
   "metadata": {},
   "outputs": [],
   "source": [
    "def set_threshold(row,threshold_value):\n",
    "    row = (row > threshold_value)+0;\n",
    "    return row"
   ]
  },
  {
   "cell_type": "code",
   "execution_count": null,
   "metadata": {},
   "outputs": [],
   "source": [
    "np.mean(predictions,axis=0)"
   ]
  },
  {
   "cell_type": "code",
   "execution_count": null,
   "metadata": {},
   "outputs": [],
   "source": [
    "from sklearn.metrics import accuracy_score, precision_score, recall_score, roc_auc_score"
   ]
  },
  {
   "cell_type": "code",
   "execution_count": null,
   "metadata": {},
   "outputs": [],
   "source": [
    "#set threshold value\n",
    "pred=set_threshold(predictions, 0.5)"
   ]
  },
  {
   "cell_type": "code",
   "execution_count": null,
   "metadata": {},
   "outputs": [],
   "source": [
    "print(accuracy_score(y_test, pred, normalize=True))"
   ]
  },
  {
   "cell_type": "code",
   "execution_count": null,
   "metadata": {},
   "outputs": [],
   "source": [
    "i"
   ]
  },
  {
   "cell_type": "code",
   "execution_count": null,
   "metadata": {},
   "outputs": [],
   "source": [
    "thrs=np.linspace(0, 1, 100)\n",
    "sc = np.zeros((len(thrs)))\n",
    "for i, thr in enumerate(thrs):\n",
    "    sc[i] = accuracy_score(y_test, (predictions>thr).astype(int))\n",
    "print(\"Best threshold {} with score {}\".format(thrs[np.argmax(sc)], np.max(sc)))"
   ]
  },
  {
   "cell_type": "code",
   "execution_count": null,
   "metadata": {
    "scrolled": true
   },
   "outputs": [],
   "source": [
    "for k in range(pred.shape[1]):\n",
    "    print(\"Class\", k)\n",
    "    print(accuracy_score(y_test[:,k], pred[:,k]))"
   ]
  },
  {
   "cell_type": "code",
   "execution_count": null,
   "metadata": {},
   "outputs": [],
   "source": [
    "precision_score(pred,  y_test, average='macro')"
   ]
  },
  {
   "cell_type": "code",
   "execution_count": null,
   "metadata": {},
   "outputs": [],
   "source": [
    "np.mean(pred, axis =0)"
   ]
  },
  {
   "cell_type": "code",
   "execution_count": null,
   "metadata": {},
   "outputs": [],
   "source": [
    "test['predict']=pred.tolist()"
   ]
  },
  {
   "cell_type": "code",
   "execution_count": null,
   "metadata": {},
   "outputs": [],
   "source": [
    "df_5=get_df_from_excel_2019_sheet('comment_2019.xlsx','5月')\n",
    "cols = ['cmt0','cmt1','cmt2','cmt3','cmt_4','cmt_5','cmt_6']\n",
    "df_5['comment'] =df_5[cols].apply(lambda row: ' '.join(row.values.astype(str)), axis=1)\n",
    "df_5.drop(columns=cols,inplace=True)\n",
    "df_5['comment']=df_5['comment'].str.replace('nan', '')"
   ]
  },
  {
   "cell_type": "code",
   "execution_count": null,
   "metadata": {},
   "outputs": [],
   "source": [
    "df_5.fillna(0,inplace=True)\n",
    "\n",
    "for col in ['cat_brochure', 'cat_compass', 'cat_myaxa', 'cat_reputaion', 'cat_keiyaku','cat_tetuduki','cat_tanto','cat_other']:\n",
    "    df_5[col][(df_5[col]!=0)]=1\n",
    "\n",
    "for col in ['cat_brochure', 'cat_compass', 'cat_myaxa', 'cat_reputaion', 'cat_keiyaku','cat_tetuduki','cat_tanto','cat_other']:\n",
    "    df_5[col] = df_5[col].astype('int')\n",
    "\n",
    "df_5['comment'] = remove_chars(df_5['comment'])\n",
    "df_5['comment']=df_5['comment'].apply(neologdn.normalize)\n",
    "df_5['comment']=df_5['comment'].apply(wakati_by_mecab)"
   ]
  },
  {
   "cell_type": "code",
   "execution_count": null,
   "metadata": {},
   "outputs": [],
   "source": [
    "test_texts = df_5[\"comment\"].values\n",
    "test_labels = df_5[['cat_brochure', 'cat_compass', 'cat_myaxa', 'cat_reputaion', 'cat_keiyaku','cat_tetuduki','cat_tanto','cat_other']].values\n",
    "\n",
    "x_test_seq = tokenizer.texts_to_sequences(test_texts)\n",
    "x_test = sequence.pad_sequences(x_test_seq, maxlen=maxlen_value)\n",
    "y_test = np.array(test_labels)"
   ]
  },
  {
   "cell_type": "code",
   "execution_count": null,
   "metadata": {},
   "outputs": [],
   "source": [
    "scores = model.evaluate(x_test, y_test)\n",
    "print('test_loss: %f, accuracy: %f' % (scores[0], scores[1]))"
   ]
  },
  {
   "cell_type": "code",
   "execution_count": null,
   "metadata": {},
   "outputs": [],
   "source": [
    "latest = tf.train.latest_checkpoint(checkpoint_dir)\n",
    " \n",
    "model.load_weights(latest)\n",
    " \n",
    "predictions = model.predict(x_test)\n",
    "\n",
    "pred=set_threshold(predictions,0.5)\n",
    " \n",
    "df_5['predict']=pred.tolist()"
   ]
  },
  {
   "cell_type": "code",
   "execution_count": null,
   "metadata": {},
   "outputs": [],
   "source": [
    "df_5['predict'].to_csv(\"predict.csv\",index=None)"
   ]
  },
  {
   "cell_type": "code",
   "execution_count": null,
   "metadata": {},
   "outputs": [],
   "source": []
  },
  {
   "cell_type": "code",
   "execution_count": null,
   "metadata": {},
   "outputs": [],
   "source": [
    "import keras\n",
    "from keras import backend as K"
   ]
  },
  {
   "cell_type": "code",
   "execution_count": null,
   "metadata": {},
   "outputs": [],
   "source": [
    "def threshold_binary_accuracy(y_true, y_pred):\n",
    "    threshold = 0.80\n",
    "    if K.backend() == 'tensorflow':\n",
    "        return K.mean(K.equal(y_true, K.tf.cast(K.lesser(y_pred,threshold), y_true.dtype)))\n",
    "    else:\n",
    "        return K.mean(K.equal(y_true, K.lesser(y_pred,threshold)))"
   ]
  },
  {
   "cell_type": "code",
   "execution_count": null,
   "metadata": {},
   "outputs": [],
   "source": [
    "print K.eval(keras.metrics.binary_accuracy(a_true, a_pred))"
   ]
  }
 ],
 "metadata": {
  "kernelspec": {
   "display_name": "conda_tensorflow_p36",
   "language": "python",
   "name": "conda_tensorflow_p36"
  },
  "language_info": {
   "codemirror_mode": {
    "name": "ipython",
    "version": 3
   },
   "file_extension": ".py",
   "mimetype": "text/x-python",
   "name": "python",
   "nbconvert_exporter": "python",
   "pygments_lexer": "ipython3",
   "version": "3.6.5"
  }
 },
 "nbformat": 4,
 "nbformat_minor": 2
}
